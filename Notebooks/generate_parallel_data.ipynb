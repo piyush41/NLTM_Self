{
 "cells": [
  {
   "cell_type": "code",
   "execution_count": 25,
   "metadata": {},
   "outputs": [],
   "source": [
    "import pandas as pd\n",
    "f_lang='hi'\n",
    "\n",
    "s_lang='kn'\n",
    "firstSet = f\"/data1/home/piyushmishra/newgithub/v2/en-{f_lang}\"\n",
    "secondSet = f\"/data1/home/piyushmishra/newgithub/v2/en-{s_lang}\""
   ]
  },
  {
   "cell_type": "code",
   "execution_count": 26,
   "metadata": {},
   "outputs": [
    {
     "name": "stdout",
     "output_type": "stream",
     "text": [
      "firstSetSI: 10125706, Unique firstSetSI: 7004215\n",
      "firstSetSII: 10125706, Unique firstSetSII: 9447884\n",
      "secondSetSI: 4093524, Unique secondSetSI: 2231884\n",
      "secondSetSII: 4093524, Unique secondSetSII: 4036569\n"
     ]
    }
   ],
   "source": [
    "with open(f'{firstSet}/train.en', 'r',encoding='utf-8', errors='ignore') as f:\n",
    "    firstSetSI = f.readlines()\n",
    "\n",
    "with open(f'{firstSet}/train.{f_lang}', 'r',encoding='utf-8', errors='ignore') as f:\n",
    "    firstSetSII = f.readlines()\n",
    "\n",
    "with open(f'{secondSet}/train.en', 'r',encoding='utf-8', errors='ignore') as f:\n",
    "    secondSetSI = f.readlines()\n",
    "\n",
    "with open(f'{secondSet}/train.{s_lang}', 'r',encoding='utf-8', errors='ignore') as f:\n",
    "    secondSetSII = f.readlines()\n",
    "\n",
    "print(f\"firstSetSI: {len(firstSetSI)}, Unique firstSetSI: {len(set(firstSetSI))}\")\n",
    "print(f\"firstSetSII: {len(firstSetSII)}, Unique firstSetSII: {len(set(firstSetSII))}\")\n",
    "print(f\"secondSetSI: {len(secondSetSI)}, Unique secondSetSI: {len(set(secondSetSI))}\")\n",
    "print(f\"secondSetSII: {len(secondSetSII)}, Unique secondSetSII: {len(set(secondSetSII))}\")"
   ]
  },
  {
   "cell_type": "code",
   "execution_count": 27,
   "metadata": {},
   "outputs": [
    {
     "name": "stdout",
     "output_type": "stream",
     "text": [
      "988083\n"
     ]
    }
   ],
   "source": [
    "intersect = set(firstSetSI).intersection(secondSetSI)\n",
    "# print(intersect[:25])\n",
    "print(len(set(intersect)))"
   ]
  },
  {
   "cell_type": "code",
   "execution_count": 28,
   "metadata": {},
   "outputs": [],
   "source": [
    "df1 = pd.DataFrame({\n",
    "    \"English\":firstSetSI,\n",
    "    f\"{f_lang}\":firstSetSII\n",
    "    })\n",
    "df2 = pd.DataFrame({\n",
    "    \"English\":secondSetSI,\n",
    "    f\"{s_lang}\":secondSetSII\n",
    "    })"
   ]
  },
  {
   "cell_type": "code",
   "execution_count": 29,
   "metadata": {},
   "outputs": [
    {
     "data": {
      "text/html": [
       "<div>\n",
       "<style scoped>\n",
       "    .dataframe tbody tr th:only-of-type {\n",
       "        vertical-align: middle;\n",
       "    }\n",
       "\n",
       "    .dataframe tbody tr th {\n",
       "        vertical-align: top;\n",
       "    }\n",
       "\n",
       "    .dataframe thead th {\n",
       "        text-align: right;\n",
       "    }\n",
       "</style>\n",
       "<table border=\"1\" class=\"dataframe\">\n",
       "  <thead>\n",
       "    <tr style=\"text-align: right;\">\n",
       "      <th></th>\n",
       "      <th>English</th>\n",
       "      <th>hi</th>\n",
       "    </tr>\n",
       "  </thead>\n",
       "  <tbody>\n",
       "    <tr>\n",
       "      <th>0</th>\n",
       "      <td>However, Paes, who was partnering Australia's ...</td>\n",
       "      <td>आस्ट्रेलिया के पाल हेनली के साथ जोड़ी बनाने वाल...</td>\n",
       "    </tr>\n",
       "    <tr>\n",
       "      <th>1</th>\n",
       "      <td>Whosoever desires the reward of the world, wit...</td>\n",
       "      <td>और जो शख्स (अपने आमाल का) बदला दुनिया ही में च...</td>\n",
       "    </tr>\n",
       "    <tr>\n",
       "      <th>2</th>\n",
       "      <td>The value of insects in the biosphere is enorm...</td>\n",
       "      <td>जैव-मंडल में कीड़ों का मूल्य बहुत है, क्योंकि ...</td>\n",
       "    </tr>\n",
       "    <tr>\n",
       "      <th>3</th>\n",
       "      <td>Mithali To Anchor Indian Team Against Australi...</td>\n",
       "      <td>आस्ट्रेलिया के खिलाफ वनडे टीम की कमान मिताली को\\n</td>\n",
       "    </tr>\n",
       "    <tr>\n",
       "      <th>4</th>\n",
       "      <td>After the assent of the Honble President on 8t...</td>\n",
       "      <td>8 सितम्‍बर, 2016 को माननीय राष्‍ट्रपति की स्‍व...</td>\n",
       "    </tr>\n",
       "  </tbody>\n",
       "</table>\n",
       "</div>"
      ],
      "text/plain": [
       "                                             English  \\\n",
       "0  However, Paes, who was partnering Australia's ...   \n",
       "1  Whosoever desires the reward of the world, wit...   \n",
       "2  The value of insects in the biosphere is enorm...   \n",
       "3  Mithali To Anchor Indian Team Against Australi...   \n",
       "4  After the assent of the Honble President on 8t...   \n",
       "\n",
       "                                                  hi  \n",
       "0  आस्ट्रेलिया के पाल हेनली के साथ जोड़ी बनाने वाल...  \n",
       "1  और जो शख्स (अपने आमाल का) बदला दुनिया ही में च...  \n",
       "2  जैव-मंडल में कीड़ों का मूल्य बहुत है, क्योंकि ...  \n",
       "3  आस्ट्रेलिया के खिलाफ वनडे टीम की कमान मिताली को\\n  \n",
       "4  8 सितम्‍बर, 2016 को माननीय राष्‍ट्रपति की स्‍व...  "
      ]
     },
     "execution_count": 29,
     "metadata": {},
     "output_type": "execute_result"
    }
   ],
   "source": [
    "df1.head()"
   ]
  },
  {
   "cell_type": "code",
   "execution_count": 30,
   "metadata": {},
   "outputs": [
    {
     "name": "stdout",
     "output_type": "stream",
     "text": [
      "Police have registered case and started search against the accused.\n",
      "\n",
      "['इस बारे में पुलिस ने आरोपियों के खिलाफ मामला दर्ज कर जांच शुरू कर दी है।\\n', 'पुलिस ने मामले की जांच के बाद आरोपी व्यक्ति के खिलाफ मामला दर्ज कर कार्रवाई शुरू कर दी है।\\n', 'पुलिस ने आरोपी व्यक्ति के खिलाफ केस दर्ज कर जांच शुरू कर दी है।\\n']\n"
     ]
    }
   ],
   "source": [
    "dictionary={}\n",
    "for i in range((df1.shape[0])):\n",
    "    eng = df1.iloc[i]['English']\n",
    "    if eng in dictionary.keys():\n",
    "        if len(dictionary[eng])>2:\n",
    "            print(eng)\n",
    "            print(dictionary[eng]) \n",
    "            break\n",
    "        dictionary[eng].append(df1.iloc[i]['hi'])\n",
    "    else:\n",
    "        dictionary[eng]=[df1.iloc[i]['hi']]"
   ]
  },
  {
   "cell_type": "code",
   "execution_count": 31,
   "metadata": {},
   "outputs": [],
   "source": [
    "# df=df1.drop_duplicates(['English'])"
   ]
  },
  {
   "cell_type": "code",
   "execution_count": 10,
   "metadata": {},
   "outputs": [
    {
     "data": {
      "text/plain": [
       "(7004215, 2)"
      ]
     },
     "execution_count": 10,
     "metadata": {},
     "output_type": "execute_result"
    }
   ],
   "source": [
    "# df.shape"
   ]
  },
  {
   "cell_type": "code",
   "execution_count": 32,
   "metadata": {},
   "outputs": [
    {
     "data": {
      "text/plain": [
       "(10125706, 2)"
      ]
     },
     "execution_count": 32,
     "metadata": {},
     "output_type": "execute_result"
    }
   ],
   "source": [
    "df1.shape"
   ]
  },
  {
   "cell_type": "code",
   "execution_count": 33,
   "metadata": {},
   "outputs": [
    {
     "data": {
      "text/plain": [
       "(4093524, 2)"
      ]
     },
     "execution_count": 33,
     "metadata": {},
     "output_type": "execute_result"
    }
   ],
   "source": [
    "df2.shape"
   ]
  },
  {
   "cell_type": "code",
   "execution_count": 41,
   "metadata": {},
   "outputs": [],
   "source": [
    "data = {'Name': ['Tom', 'nick', 'krish', 'Tom'],\n",
    "        'Age': [20, 21, 19, 18]}\n",
    "data1 = {'Name': ['piyush', 'Tom', 'eyush', 'Tom'],\n",
    "'numbers': [23, 21, 19, 180]}\n",
    "newdf=pd.DataFrame(data)\n",
    "newdf1=pd.DataFrame(data1)"
   ]
  },
  {
   "cell_type": "code",
   "execution_count": 42,
   "metadata": {},
   "outputs": [
    {
     "data": {
      "text/html": [
       "<div>\n",
       "<style scoped>\n",
       "    .dataframe tbody tr th:only-of-type {\n",
       "        vertical-align: middle;\n",
       "    }\n",
       "\n",
       "    .dataframe tbody tr th {\n",
       "        vertical-align: top;\n",
       "    }\n",
       "\n",
       "    .dataframe thead th {\n",
       "        text-align: right;\n",
       "    }\n",
       "</style>\n",
       "<table border=\"1\" class=\"dataframe\">\n",
       "  <thead>\n",
       "    <tr style=\"text-align: right;\">\n",
       "      <th></th>\n",
       "      <th>Name</th>\n",
       "      <th>Age</th>\n",
       "    </tr>\n",
       "  </thead>\n",
       "  <tbody>\n",
       "    <tr>\n",
       "      <th>0</th>\n",
       "      <td>Tom</td>\n",
       "      <td>20</td>\n",
       "    </tr>\n",
       "    <tr>\n",
       "      <th>1</th>\n",
       "      <td>nick</td>\n",
       "      <td>21</td>\n",
       "    </tr>\n",
       "    <tr>\n",
       "      <th>2</th>\n",
       "      <td>krish</td>\n",
       "      <td>19</td>\n",
       "    </tr>\n",
       "    <tr>\n",
       "      <th>3</th>\n",
       "      <td>Tom</td>\n",
       "      <td>18</td>\n",
       "    </tr>\n",
       "  </tbody>\n",
       "</table>\n",
       "</div>"
      ],
      "text/plain": [
       "    Name  Age\n",
       "0    Tom   20\n",
       "1   nick   21\n",
       "2  krish   19\n",
       "3    Tom   18"
      ]
     },
     "execution_count": 42,
     "metadata": {},
     "output_type": "execute_result"
    }
   ],
   "source": [
    "newdf"
   ]
  },
  {
   "cell_type": "code",
   "execution_count": 43,
   "metadata": {},
   "outputs": [
    {
     "data": {
      "text/html": [
       "<div>\n",
       "<style scoped>\n",
       "    .dataframe tbody tr th:only-of-type {\n",
       "        vertical-align: middle;\n",
       "    }\n",
       "\n",
       "    .dataframe tbody tr th {\n",
       "        vertical-align: top;\n",
       "    }\n",
       "\n",
       "    .dataframe thead th {\n",
       "        text-align: right;\n",
       "    }\n",
       "</style>\n",
       "<table border=\"1\" class=\"dataframe\">\n",
       "  <thead>\n",
       "    <tr style=\"text-align: right;\">\n",
       "      <th></th>\n",
       "      <th>Name</th>\n",
       "      <th>numbers</th>\n",
       "    </tr>\n",
       "  </thead>\n",
       "  <tbody>\n",
       "    <tr>\n",
       "      <th>0</th>\n",
       "      <td>piyush</td>\n",
       "      <td>23</td>\n",
       "    </tr>\n",
       "    <tr>\n",
       "      <th>1</th>\n",
       "      <td>Tom</td>\n",
       "      <td>21</td>\n",
       "    </tr>\n",
       "    <tr>\n",
       "      <th>2</th>\n",
       "      <td>eyush</td>\n",
       "      <td>19</td>\n",
       "    </tr>\n",
       "    <tr>\n",
       "      <th>3</th>\n",
       "      <td>Tom</td>\n",
       "      <td>180</td>\n",
       "    </tr>\n",
       "  </tbody>\n",
       "</table>\n",
       "</div>"
      ],
      "text/plain": [
       "     Name  numbers\n",
       "0  piyush       23\n",
       "1     Tom       21\n",
       "2   eyush       19\n",
       "3     Tom      180"
      ]
     },
     "execution_count": 43,
     "metadata": {},
     "output_type": "execute_result"
    }
   ],
   "source": [
    "newdf1"
   ]
  },
  {
   "cell_type": "code",
   "execution_count": 46,
   "metadata": {},
   "outputs": [
    {
     "data": {
      "text/html": [
       "<div>\n",
       "<style scoped>\n",
       "    .dataframe tbody tr th:only-of-type {\n",
       "        vertical-align: middle;\n",
       "    }\n",
       "\n",
       "    .dataframe tbody tr th {\n",
       "        vertical-align: top;\n",
       "    }\n",
       "\n",
       "    .dataframe thead th {\n",
       "        text-align: right;\n",
       "    }\n",
       "</style>\n",
       "<table border=\"1\" class=\"dataframe\">\n",
       "  <thead>\n",
       "    <tr style=\"text-align: right;\">\n",
       "      <th></th>\n",
       "      <th>Name</th>\n",
       "      <th>Age</th>\n",
       "      <th>numbers</th>\n",
       "    </tr>\n",
       "  </thead>\n",
       "  <tbody>\n",
       "    <tr>\n",
       "      <th>0</th>\n",
       "      <td>Tom</td>\n",
       "      <td>20</td>\n",
       "      <td>21</td>\n",
       "    </tr>\n",
       "    <tr>\n",
       "      <th>1</th>\n",
       "      <td>Tom</td>\n",
       "      <td>20</td>\n",
       "      <td>180</td>\n",
       "    </tr>\n",
       "    <tr>\n",
       "      <th>2</th>\n",
       "      <td>Tom</td>\n",
       "      <td>18</td>\n",
       "      <td>21</td>\n",
       "    </tr>\n",
       "    <tr>\n",
       "      <th>3</th>\n",
       "      <td>Tom</td>\n",
       "      <td>18</td>\n",
       "      <td>180</td>\n",
       "    </tr>\n",
       "  </tbody>\n",
       "</table>\n",
       "</div>"
      ],
      "text/plain": [
       "  Name  Age  numbers\n",
       "0  Tom   20       21\n",
       "1  Tom   20      180\n",
       "2  Tom   18       21\n",
       "3  Tom   18      180"
      ]
     },
     "execution_count": 46,
     "metadata": {},
     "output_type": "execute_result"
    }
   ],
   "source": [
    "ndf = pd.merge(newdf, newdf1, on='Name')\n",
    "ndf"
   ]
  },
  {
   "cell_type": "code",
   "execution_count": 47,
   "metadata": {},
   "outputs": [
    {
     "data": {
      "text/html": [
       "<div>\n",
       "<style scoped>\n",
       "    .dataframe tbody tr th:only-of-type {\n",
       "        vertical-align: middle;\n",
       "    }\n",
       "\n",
       "    .dataframe tbody tr th {\n",
       "        vertical-align: top;\n",
       "    }\n",
       "\n",
       "    .dataframe thead th {\n",
       "        text-align: right;\n",
       "    }\n",
       "</style>\n",
       "<table border=\"1\" class=\"dataframe\">\n",
       "  <thead>\n",
       "    <tr style=\"text-align: right;\">\n",
       "      <th></th>\n",
       "      <th>Name</th>\n",
       "      <th>Age</th>\n",
       "      <th>numbers</th>\n",
       "    </tr>\n",
       "  </thead>\n",
       "  <tbody>\n",
       "    <tr>\n",
       "      <th>0</th>\n",
       "      <td>Tom</td>\n",
       "      <td>20</td>\n",
       "      <td>21</td>\n",
       "    </tr>\n",
       "    <tr>\n",
       "      <th>1</th>\n",
       "      <td>Tom</td>\n",
       "      <td>20</td>\n",
       "      <td>180</td>\n",
       "    </tr>\n",
       "    <tr>\n",
       "      <th>2</th>\n",
       "      <td>Tom</td>\n",
       "      <td>18</td>\n",
       "      <td>21</td>\n",
       "    </tr>\n",
       "    <tr>\n",
       "      <th>3</th>\n",
       "      <td>Tom</td>\n",
       "      <td>18</td>\n",
       "      <td>180</td>\n",
       "    </tr>\n",
       "  </tbody>\n",
       "</table>\n",
       "</div>"
      ],
      "text/plain": [
       "  Name  Age  numbers\n",
       "0  Tom   20       21\n",
       "1  Tom   20      180\n",
       "2  Tom   18       21\n",
       "3  Tom   18      180"
      ]
     },
     "execution_count": 47,
     "metadata": {},
     "output_type": "execute_result"
    }
   ],
   "source": [
    "ndf.drop_duplicates(['Name','Age','numbers'])"
   ]
  },
  {
   "cell_type": "code",
   "execution_count": 45,
   "metadata": {},
   "outputs": [
    {
     "name": "stdout",
     "output_type": "stream",
     "text": [
      "(10905314, 3)\n"
     ]
    }
   ],
   "source": [
    "df = pd.merge(df1, df2, on='English')\n",
    "print(df.shape)"
   ]
  },
  {
   "cell_type": "code",
   "execution_count": 46,
   "metadata": {},
   "outputs": [
    {
     "data": {
      "text/html": [
       "<div>\n",
       "<style scoped>\n",
       "    .dataframe tbody tr th:only-of-type {\n",
       "        vertical-align: middle;\n",
       "    }\n",
       "\n",
       "    .dataframe tbody tr th {\n",
       "        vertical-align: top;\n",
       "    }\n",
       "\n",
       "    .dataframe thead th {\n",
       "        text-align: right;\n",
       "    }\n",
       "</style>\n",
       "<table border=\"1\" class=\"dataframe\">\n",
       "  <thead>\n",
       "    <tr style=\"text-align: right;\">\n",
       "      <th></th>\n",
       "      <th>English</th>\n",
       "      <th>hi</th>\n",
       "      <th>kn</th>\n",
       "    </tr>\n",
       "  </thead>\n",
       "  <tbody>\n",
       "    <tr>\n",
       "      <th>0</th>\n",
       "      <td>The value of insects in the biosphere is enorm...</td>\n",
       "      <td>जैव-मंडल में कीड़ों का मूल्य बहुत है, क्योंकि ...</td>\n",
       "      <td>ಜೀವಗೋಳದಲ್ಲಿ ಕೀಟಗಳು ಅತಿ ಹೆಚ್ಚಿನ ಮಹತ್ವವನ್ನು ಹೊಂದ...</td>\n",
       "    </tr>\n",
       "    <tr>\n",
       "      <th>1</th>\n",
       "      <td>\"Jesus responded, as he taught in the temple, ...</td>\n",
       "      <td>फिर यीशु ने मन्दिर में उपदेश करते हुए यह कहा, ...</td>\n",
       "      <td>ಯೇಸು ದೇವಾಲಯದಲ್ಲಿ ಬೋಧಿಸುತ್ತಿದ್ದಾಗ-- ಕ್ರಿಸ್ತನು ದ...</td>\n",
       "    </tr>\n",
       "    <tr>\n",
       "      <th>2</th>\n",
       "      <td>Share videos\\n</td>\n",
       "      <td>वीडियो क्लिप शेयर किए\\n</td>\n",
       "      <td>ವೀಡಿಯೊಗಳನ್ನು ಹಂಚಿಕೊಳ್ಳಲಾಗುತ್ತಿದೆ\\n</td>\n",
       "    </tr>\n",
       "    <tr>\n",
       "      <th>3</th>\n",
       "      <td>Share videos\\n</td>\n",
       "      <td>देेखें वीडियो\\n</td>\n",
       "      <td>ವೀಡಿಯೊಗಳನ್ನು ಹಂಚಿಕೊಳ್ಳಲಾಗುತ್ತಿದೆ\\n</td>\n",
       "    </tr>\n",
       "    <tr>\n",
       "      <th>4</th>\n",
       "      <td>They are not seen anywhere.\\n</td>\n",
       "      <td>दोनों ही कहीं भी दिखाई नहीं पड़ रहे।\\n</td>\n",
       "      <td>ಎಲ್ಲಿಯೂ ಅವರನ್ನು ಗುರುತಿಸುವವರೂ ಕಾಣುವುದಿಲ್ಲ.\\n</td>\n",
       "    </tr>\n",
       "  </tbody>\n",
       "</table>\n",
       "</div>"
      ],
      "text/plain": [
       "                                             English  \\\n",
       "0  The value of insects in the biosphere is enorm...   \n",
       "1  \"Jesus responded, as he taught in the temple, ...   \n",
       "2                                     Share videos\\n   \n",
       "3                                     Share videos\\n   \n",
       "4                      They are not seen anywhere.\\n   \n",
       "\n",
       "                                                  hi  \\\n",
       "0  जैव-मंडल में कीड़ों का मूल्य बहुत है, क्योंकि ...   \n",
       "1  फिर यीशु ने मन्दिर में उपदेश करते हुए यह कहा, ...   \n",
       "2                            वीडियो क्लिप शेयर किए\\n   \n",
       "3                                    देेखें वीडियो\\n   \n",
       "4              दोनों ही कहीं भी दिखाई नहीं पड़ रहे।\\n   \n",
       "\n",
       "                                                  kn  \n",
       "0  ಜೀವಗೋಳದಲ್ಲಿ ಕೀಟಗಳು ಅತಿ ಹೆಚ್ಚಿನ ಮಹತ್ವವನ್ನು ಹೊಂದ...  \n",
       "1  ಯೇಸು ದೇವಾಲಯದಲ್ಲಿ ಬೋಧಿಸುತ್ತಿದ್ದಾಗ-- ಕ್ರಿಸ್ತನು ದ...  \n",
       "2                 ವೀಡಿಯೊಗಳನ್ನು ಹಂಚಿಕೊಳ್ಳಲಾಗುತ್ತಿದೆ\\n  \n",
       "3                 ವೀಡಿಯೊಗಳನ್ನು ಹಂಚಿಕೊಳ್ಳಲಾಗುತ್ತಿದೆ\\n  \n",
       "4        ಎಲ್ಲಿಯೂ ಅವರನ್ನು ಗುರುತಿಸುವವರೂ ಕಾಣುವುದಿಲ್ಲ.\\n  "
      ]
     },
     "execution_count": 46,
     "metadata": {},
     "output_type": "execute_result"
    }
   ],
   "source": [
    "df.head()"
   ]
  },
  {
   "cell_type": "code",
   "execution_count": 48,
   "metadata": {},
   "outputs": [],
   "source": [
    "import pandas as pd\n",
    "df=pd.read_csv(\"/data1/home/piyushmishra/newgithub/parallel_data_output/enhibn_wd.csv\")"
   ]
  },
  {
   "cell_type": "code",
   "execution_count": 49,
   "metadata": {},
   "outputs": [
    {
     "data": {
      "text/plain": [
       "(21220159, 3)"
      ]
     },
     "execution_count": 49,
     "metadata": {},
     "output_type": "execute_result"
    }
   ],
   "source": [
    "df.shape"
   ]
  },
  {
   "cell_type": "code",
   "execution_count": 54,
   "metadata": {},
   "outputs": [
    {
     "data": {
      "text/html": [
       "<div>\n",
       "<style scoped>\n",
       "    .dataframe tbody tr th:only-of-type {\n",
       "        vertical-align: middle;\n",
       "    }\n",
       "\n",
       "    .dataframe tbody tr th {\n",
       "        vertical-align: top;\n",
       "    }\n",
       "\n",
       "    .dataframe thead th {\n",
       "        text-align: right;\n",
       "    }\n",
       "</style>\n",
       "<table border=\"1\" class=\"dataframe\">\n",
       "  <thead>\n",
       "    <tr style=\"text-align: right;\">\n",
       "      <th></th>\n",
       "      <th>English</th>\n",
       "      <th>Hindi</th>\n",
       "      <th>Bengali</th>\n",
       "    </tr>\n",
       "  </thead>\n",
       "  <tbody>\n",
       "    <tr>\n",
       "      <th>0</th>\n",
       "      <td>Whosoever desires the reward of the world, wit...</td>\n",
       "      <td>और जो शख्स (अपने आमाल का) बदला दुनिया ही में च...</td>\n",
       "      <td>যে কেউ দুনিয়ার কল্যাণ কামনা করবে, তার জেনে রাখ...</td>\n",
       "    </tr>\n",
       "    <tr>\n",
       "      <th>1</th>\n",
       "      <td>Whosoever desires the reward of the world, wit...</td>\n",
       "      <td>और जो शख्स (अपने आमाल का) बदला दुनिया ही में च...</td>\n",
       "      <td>ওহে যারা ঈমান এনেছ! তোমরা ন্যায়বিচারের দৃঢ় প্...</td>\n",
       "    </tr>\n",
       "    <tr>\n",
       "      <th>2</th>\n",
       "      <td>Whosoever desires the reward of the world, wit...</td>\n",
       "      <td>जो कोई दुनिया का बदला चाहता है, तो अल्लाह के प...</td>\n",
       "      <td>যে কেউ দুনিয়ার কল্যাণ কামনা করবে, তার জেনে রাখ...</td>\n",
       "    </tr>\n",
       "    <tr>\n",
       "      <th>3</th>\n",
       "      <td>Whosoever desires the reward of the world, wit...</td>\n",
       "      <td>जो कोई दुनिया का बदला चाहता है, तो अल्लाह के प...</td>\n",
       "      <td>ওহে যারা ঈমান এনেছ! তোমরা ন্যায়বিচারের দৃঢ় প্...</td>\n",
       "    </tr>\n",
       "    <tr>\n",
       "      <th>4</th>\n",
       "      <td>Whosoever desires the reward of the world, wit...</td>\n",
       "      <td>और जो शख्स (अपने आमाल का) बदला दुनिया ही में च...</td>\n",
       "      <td>যে কেউ দুনিয়ার কল্যাণ কামনা করবে, তার জেনে রাখ...</td>\n",
       "    </tr>\n",
       "  </tbody>\n",
       "</table>\n",
       "</div>"
      ],
      "text/plain": [
       "                                             English  \\\n",
       "0  Whosoever desires the reward of the world, wit...   \n",
       "1  Whosoever desires the reward of the world, wit...   \n",
       "2  Whosoever desires the reward of the world, wit...   \n",
       "3  Whosoever desires the reward of the world, wit...   \n",
       "4  Whosoever desires the reward of the world, wit...   \n",
       "\n",
       "                                               Hindi  \\\n",
       "0  और जो शख्स (अपने आमाल का) बदला दुनिया ही में च...   \n",
       "1  और जो शख्स (अपने आमाल का) बदला दुनिया ही में च...   \n",
       "2  जो कोई दुनिया का बदला चाहता है, तो अल्लाह के प...   \n",
       "3  जो कोई दुनिया का बदला चाहता है, तो अल्लाह के प...   \n",
       "4  और जो शख्स (अपने आमाल का) बदला दुनिया ही में च...   \n",
       "\n",
       "                                             Bengali  \n",
       "0  যে কেউ দুনিয়ার কল্যাণ কামনা করবে, তার জেনে রাখ...  \n",
       "1  ওহে যারা ঈমান এনেছ! তোমরা ন্যায়বিচারের দৃঢ় প্...  \n",
       "2  যে কেউ দুনিয়ার কল্যাণ কামনা করবে, তার জেনে রাখ...  \n",
       "3  ওহে যারা ঈমান এনেছ! তোমরা ন্যায়বিচারের দৃঢ় প্...  \n",
       "4  যে কেউ দুনিয়ার কল্যাণ কামনা করবে, তার জেনে রাখ...  "
      ]
     },
     "execution_count": 54,
     "metadata": {},
     "output_type": "execute_result"
    }
   ],
   "source": [
    "df.head()"
   ]
  },
  {
   "cell_type": "code",
   "execution_count": 57,
   "metadata": {},
   "outputs": [],
   "source": [
    "df2=df.drop_duplicates(subset=['English','Hindi',\"Bengali\"])"
   ]
  },
  {
   "cell_type": "code",
   "execution_count": 58,
   "metadata": {},
   "outputs": [
    {
     "data": {
      "text/plain": [
       "(21220159, 3)"
      ]
     },
     "execution_count": 58,
     "metadata": {},
     "output_type": "execute_result"
    }
   ],
   "source": [
    "df2.shape"
   ]
  },
  {
   "cell_type": "code",
   "execution_count": 50,
   "metadata": {},
   "outputs": [],
   "source": [
    "df1=pd.read_csv(\"/data1/home/piyushmishra/newgithub/parallel_data_output/enhibn.csv\")"
   ]
  },
  {
   "cell_type": "code",
   "execution_count": 51,
   "metadata": {},
   "outputs": [
    {
     "data": {
      "text/plain": [
       "(1205901, 3)"
      ]
     },
     "execution_count": 51,
     "metadata": {},
     "output_type": "execute_result"
    }
   ],
   "source": [
    "df1.shape"
   ]
  },
  {
   "cell_type": "code",
   "execution_count": 56,
   "metadata": {},
   "outputs": [
    {
     "name": "stdout",
     "output_type": "stream",
     "text": [
      "Whosoever desires the reward of the world, with Allah is the reward of the world and of the Everlasting Life. Allah is the Hearer, the Seer.\n",
      "[('और जो शख्स (अपने आमाल का) बदला दुनिया ही में चाहता है तो ख़ुदा के पास दुनिया व आख़िरत दोनों का अज्र मौजूद है और ख़ुदा तो हर शख्स की सुनता और सबको देखता है', 'যে কেউ দুনিয়ার কল্যাণ কামনা করবে, তার জেনে রাখা প্রয়োজন যে, দুনিয়া ও আখেরাতের কল্যাণ আল্লাহরই নিকট রয়েছে। আর আল্লাহ সব কিছু শোনেন ও দেখেন।'), ('और जो शख्स (अपने आमाल का) बदला दुनिया ही में चाहता है तो ख़ुदा के पास दुनिया व आख़िरत दोनों का अज्र मौजूद है और ख़ुदा तो हर शख्स की सुनता और सबको देखता है', 'ওহে যারা ঈমান এনেছ! তোমরা ন্যায়বিচারের দৃঢ় প্রতিষ্ঠাতা হও, আল্লাহ্\\u200cর উদ্দেশ্যে সাক্ষ্যদাতা হও, যদিও তা তোমাদের নিজেদের বিরুদ্ধে যায় অথবা পিতা-মাতার ও নিকট-আ\\u200cত্মীয়ের, সে ধনী হোক অথবা গরীব, -- কেননা আল্লাহ্ তাদের উভয়ের বেশি নিকটবর্তী। কাজেই কামনার অনুবর্তী হয়ো না পাছে তোমরা ভ্রষ্ট হও। আর যদি তোমরা বিকৃত করো অথবা ফিরে যাও, তবে নিঃসন্দেহ তোমরা যা করো আল্লাহ্ হচ্ছেন তার পূর্ণ ওয়াকিফহাল।'), ('जो कोई दुनिया का बदला चाहता है, तो अल्लाह के पास दुनिया का बदला भी है और आख़िरत का भी। अल्लाह सब कुछ सुनता, देखता है', 'যে কেউ দুনিয়ার কল্যাণ কামনা করবে, তার জেনে রাখা প্রয়োজন যে, দুনিয়া ও আখেরাতের কল্যাণ আল্লাহরই নিকট রয়েছে। আর আল্লাহ সব কিছু শোনেন ও দেখেন।')]\n"
     ]
    }
   ],
   "source": [
    "dictionary={}\n",
    "for i in range((df.shape[0])):\n",
    "    eng = df.iloc[i]['English']\n",
    "    if eng in dictionary.keys():\n",
    "        if len(dictionary[eng])>2:\n",
    "            print(eng)\n",
    "            print(dictionary[eng]) \n",
    "            break\n",
    "        dictionary[eng].append((df.iloc[i]['Hindi'],df.iloc[i]['Bengali']))\n",
    "    else:\n",
    "        dictionary[eng]=[(df.iloc[i]['Hindi'],df.iloc[i]['Bengali'])]"
   ]
  },
  {
   "cell_type": "code",
   "execution_count": null,
   "metadata": {},
   "outputs": [],
   "source": []
  }
 ],
 "metadata": {
  "kernelspec": {
   "display_name": "Python 3",
   "language": "python",
   "name": "python3"
  },
  "language_info": {
   "codemirror_mode": {
    "name": "ipython",
    "version": 3
   },
   "file_extension": ".py",
   "mimetype": "text/x-python",
   "name": "python",
   "nbconvert_exporter": "python",
   "pygments_lexer": "ipython3",
   "version": "3.8.10"
  },
  "orig_nbformat": 4,
  "vscode": {
   "interpreter": {
    "hash": "31f2aee4e71d21fbe5cf8b01ff0e069b9275f58929596ceb00d14d90e3e16cd6"
   }
  }
 },
 "nbformat": 4,
 "nbformat_minor": 2
}
